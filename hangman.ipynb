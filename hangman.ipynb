{
 "cells": [
  {
   "cell_type": "markdown",
   "metadata": {},
   "source": [
    "# Hangman notes\n",
    "Your hangman homework has a number of different ways it can be completed. If you are having trouble completing it, you can use this notebook to guide you to a solution.\n",
    "\n",
    "## Describe the Algorithm\n",
    "Usually when we start writing a program we decide how we want the program to work. This is called the algorithm underlying the program.\n",
    "\n",
    "For hangman it might be something like this.\n",
    "\n",
    "1. Ask if they want to play a game, if not then return\n",
    "2. Generate a random word (w)\n",
    "   Also initialize the counter variable which keeps track of their remaining guesses\n",
    "   and initialize a variable to keep track of the letters they've guessed already.\n",
    "3. Ask the user for a letter and add it to the list of guessed letters\n",
    "4. If the letter has already been guessed or is not in the word, add one to the counter\n",
    "   and print a message saying they didn't guess a new letter\n",
    "5. Otherwise, congratulate them and print the letters in the word, but only showing the\n",
    "   letters they have guessed.\n",
    "6. If they have guessed all the letters or they have used up all of their guesses end the game\n",
    "7. Otherwise continue the game\n",
    "\n",
    "# Pseudocode\n",
    "The next step is to write the code as a combination of Python and English where the Python\n",
    "captures the \"top-level\" parts of the algorithm.\n",
    "\n",
    "Making this more Python-like we can rewrite it as:\n",
    "```python\n",
    "def play_hangman():\n",
    "    want_to_play = True\n",
    "\n",
    "\n",
    "    while (want_to_play):\n",
    "        guessed_letters = []\n",
    "        guesses_left = 6\n",
    "        word = \"generate a random word\"\n",
    "        letter = \"ask the user for a letter\"\n",
    "        done = False\n",
    "        while not done:\n",
    "            if letter in guessed_letters:\n",
    "                \"subtract one from guesses_left\"\n",
    "                \"and tell them they already guessed that letter\"\n",
    "            elif letter not in word:\n",
    "                \"add letter to guessed letters\"\n",
    "                \"tell user the letter is not in the word\"\n",
    "                \"subtract one from the guesses_left\"\n",
    "            else:\n",
    "                \"add letter to guessed letters\"\n",
    "                \"tell user the letter is in the word\"\n",
    "            if \"all the letters in the word have been guessed\":\n",
    "                \"set done to be true and tell the user they won!\"\n",
    "            elif \"the number of guesses left is zero\":\n",
    "                \"set done to be true and tell the user they lost!\"\n",
    "            else:\n",
    "                \"print the word with a dash for each letter not in guessed_letters\"\n",
    "                letter = \"ask the user for another letter\"\n",
    "        want_to_play = \"ask the user if they want to play another game...\"\n",
    "    \n",
    "```   \n",
    "Some of the pseudo code can be converted directly into python code\n",
    "Other pseudo code should be turned into functions, e.g.\n"
   ]
  },
  {
   "cell_type": "markdown",
   "metadata": {},
   "source": [
    "## Testing\n",
    "Try to trace this program to see if the logic is correct\n",
    "Play a few games and see if we have forgotten anything..."
   ]
  },
  {
   "cell_type": "markdown",
   "metadata": {},
   "source": [
    "## Topdown development\n",
    "Now that we have a highlevel view of the program and have tested it, lets start writing the lowerlevel code.\n",
    "\n",
    "\"generate a random word\" could be a function call \n",
    "```python\n",
    "  word = generate_random_word()\n",
    "```\n",
    "and then you'll need to define the generate_random_word function. The easiest approach is to\n",
    "import the random module and use the random.choice(list) function which returns a random element\n",
    "from the list. Write the code for the generate_random_word function where you just write a list of words, e.g. \n",
    "``` python\n",
    "words = \"dog cat mouse deer snake\".split()\n",
    "```\n",
    "Try writing the generate_random_word function and testing it...\n",
    "Even better is to download a list of English words, read them (as we did for Romeo and Juliet),\n",
    "and then use the random.choice function of the random module to pick a random word from that list."
   ]
  },
  {
   "cell_type": "code",
   "execution_count": 3,
   "metadata": {},
   "outputs": [],
   "source": [
    "import random\n",
    "import requests"
   ]
  },
  {
   "cell_type": "code",
   "execution_count": 4,
   "metadata": {},
   "outputs": [],
   "source": [
    "def generate_random_word():\n",
    "    return random.choice(requests.get('https://raw.githubusercontent.com/dwyl/english-words/master/words_alpha.txt')\n",
    "                         .content.decode().splitlines())"
   ]
  },
  {
   "cell_type": "markdown",
   "metadata": {},
   "source": [
    "\"print the word with a dash for each letter not in guessed_letters\"\n",
    "\n",
    "should also be a function, \n",
    "```python\n",
    "print_word(word,guessed_letter)\n",
    "```\n",
    "which prints each letter of the word but prints a dash if the letter has not been guessed.\n",
    "Try writing that function here and testing it."
   ]
  },
  {
   "cell_type": "code",
   "execution_count": 46,
   "metadata": {},
   "outputs": [],
   "source": [
    "# def print_word(current_word, guessed_letter):\n",
    "#     global word\n",
    "#     letters = [i for i in word]\n",
    "#     current_letters = [i for i in current_word]\n",
    "\n",
    "#     if guessed_letter in letters and guessed_letter not in current_letters:\n",
    "#         print('Congrats')\n",
    "#         for n, i in enumerate(letters): \n",
    "#             if i == guessed_letter:\n",
    "#                 current_letters[n] = guessed_letter\n",
    "#         current_word = \"\".join(current_letters)\n",
    "#         print(current_word)\n",
    "        \n",
    "#     else:\n",
    "#         global count\n",
    "#         count-=1\n",
    "#         print('Sorry')\n",
    "#         print(current_word)\n",
    "\n",
    "#     return current_word"
   ]
  },
  {
   "cell_type": "code",
   "execution_count": 48,
   "metadata": {},
   "outputs": [],
   "source": [
    "def print_word(current_word, guessed_letter,word):\n",
    "    letters = [i for i in word]\n",
    "    current_letters = [i for i in current_word]\n",
    "    global count\n",
    "\n",
    "    if guessed_letter in letters and guessed_letter not in current_letters:\n",
    "        print('Congrats')\n",
    "        for n, i in enumerate(letters): \n",
    "            if i == guessed_letter:\n",
    "                current_letters[n] = guessed_letter\n",
    "        current_word = \"\".join(current_letters)\n",
    "        print(current_word)\n",
    "        \n",
    "    else:\n",
    "        count-=1\n",
    "        print('Sorry')\n",
    "        print(current_word)\n",
    "\n",
    "    return current_word"
   ]
  },
  {
   "cell_type": "markdown",
   "metadata": {},
   "source": [
    "Putting it all together\n",
    "Now try to write the entire play_hangman game with all these pieces.\n"
   ]
  },
  {
   "cell_type": "code",
   "execution_count": 49,
   "metadata": {},
   "outputs": [],
   "source": [
    "def play_hangman():\n",
    "    \n",
    "    while True:\n",
    "        global count\n",
    "        word = generate_random_word()\n",
    "        count = 6\n",
    "        current_word = \"\".join(len(word)*['_'])\n",
    "        print(current_word)\n",
    "        print('There are',len(word),'letters in this word')\n",
    "        print(word)#delete\n",
    "        while count>0 and current_word != word:     \n",
    "            guessed_letter = input('a letter: ')\n",
    "            current_word = print_word(current_word, guessed_letter,word)\n",
    "            print(count)#delete\n",
    "\n",
    "        if current_word == word:\n",
    "            print('success')\n",
    "        else:\n",
    "            print('you lose')\n",
    "            \n",
    "        intention = input(\"Ture/False\")\n",
    "        if intention == 'False':\n",
    "            break"
   ]
  },
  {
   "cell_type": "code",
   "execution_count": 50,
   "metadata": {},
   "outputs": [
    {
     "name": "stdout",
     "output_type": "stream",
     "text": [
      "_____\n",
      "There are 5 letters in this word\n",
      "umist\n",
      "a letter: q\n",
      "Sorry\n",
      "_____\n",
      "5\n",
      "a letter: w\n",
      "Sorry\n",
      "_____\n",
      "4\n",
      "a letter: e\n",
      "Sorry\n",
      "_____\n",
      "3\n",
      "a letter: r\n",
      "Sorry\n",
      "_____\n",
      "2\n",
      "a letter: t\n",
      "Congrats\n",
      "____t\n",
      "2\n",
      "a letter: y\n",
      "Sorry\n",
      "____t\n",
      "1\n",
      "a letter: u\n",
      "Congrats\n",
      "u___t\n",
      "1\n",
      "a letter: i\n",
      "Congrats\n",
      "u_i_t\n",
      "1\n",
      "a letter: o\n",
      "Sorry\n",
      "u_i_t\n",
      "0\n",
      "you lose\n",
      "Ture/FalseFalse\n"
     ]
    }
   ],
   "source": [
    "play_hangman()"
   ]
  },
  {
   "cell_type": "code",
   "execution_count": 8,
   "metadata": {},
   "outputs": [
    {
     "name": "stdout",
     "output_type": "stream",
     "text": [
      "theologicometaphysical\n",
      "a letter: t\n"
     ]
    },
    {
     "ename": "TypeError",
     "evalue": "print_word() missing 2 required positional arguments: 'word' and 'count'",
     "output_type": "error",
     "traceback": [
      "\u001b[0;31m---------------------------------------------------------------------------\u001b[0m",
      "\u001b[0;31mTypeError\u001b[0m                                 Traceback (most recent call last)",
      "\u001b[0;32m<ipython-input-8-545ef254a0d1>\u001b[0m in \u001b[0;36m<module>\u001b[0;34m\u001b[0m\n\u001b[1;32m      5\u001b[0m \u001b[0;32mwhile\u001b[0m \u001b[0mcount\u001b[0m\u001b[0;34m>\u001b[0m\u001b[0;36m0\u001b[0m \u001b[0;32mand\u001b[0m \u001b[0mcurrent_word\u001b[0m \u001b[0;34m!=\u001b[0m \u001b[0mword\u001b[0m\u001b[0;34m:\u001b[0m\u001b[0;34m\u001b[0m\u001b[0;34m\u001b[0m\u001b[0m\n\u001b[1;32m      6\u001b[0m     \u001b[0mguessed_letter\u001b[0m \u001b[0;34m=\u001b[0m \u001b[0minput\u001b[0m\u001b[0;34m(\u001b[0m\u001b[0;34m'a letter: '\u001b[0m\u001b[0;34m)\u001b[0m\u001b[0;34m\u001b[0m\u001b[0;34m\u001b[0m\u001b[0m\n\u001b[0;32m----> 7\u001b[0;31m     \u001b[0mcurrent_word\u001b[0m \u001b[0;34m=\u001b[0m \u001b[0mprint_word\u001b[0m\u001b[0;34m(\u001b[0m\u001b[0mcurrent_word\u001b[0m\u001b[0;34m,\u001b[0m \u001b[0mguessed_letter\u001b[0m\u001b[0;34m)\u001b[0m\u001b[0;34m\u001b[0m\u001b[0;34m\u001b[0m\u001b[0m\n\u001b[0m",
      "\u001b[0;31mTypeError\u001b[0m: print_word() missing 2 required positional arguments: 'word' and 'count'"
     ]
    }
   ],
   "source": [
    "# word = generate_random_word()\n",
    "# count = 6\n",
    "# current_word = \"\".join(len(word)*['_'])\n",
    "# print(word)\n",
    "# while count>0 and current_word != word:     \n",
    "#     guessed_letter = input('a letter: ')\n",
    "#     current_word = print_word(current_word, guessed_letter)"
   ]
  }
 ],
 "metadata": {
  "kernelspec": {
   "display_name": "Python 3",
   "language": "python",
   "name": "python3"
  },
  "language_info": {
   "codemirror_mode": {
    "name": "ipython",
    "version": 3
   },
   "file_extension": ".py",
   "mimetype": "text/x-python",
   "name": "python",
   "nbconvert_exporter": "python",
   "pygments_lexer": "ipython3",
   "version": "3.7.4"
  }
 },
 "nbformat": 4,
 "nbformat_minor": 4
}
